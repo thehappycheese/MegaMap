{
 "cells": [
  {
   "cell_type": "code",
   "execution_count": 1,
   "metadata": {},
   "outputs": [],
   "source": [
    "from segmenter import fetch_road_network_info\n"
   ]
  },
  {
   "cell_type": "code",
   "execution_count": null,
   "metadata": {},
   "outputs": [],
   "source": [
    "data = fetch_road_network_info(\n",
    "    returnGeometry = True,\n",
    "    outFields      = \",\".join({\n",
    "        \"ROAD_NAME\",\n",
    "        \"COMMON_USAGE_NAME\",\n",
    "        \"ROAD\",\n",
    "        \"START_SLK\",\n",
    "        \"END_SLK\",\n",
    "        \"CWY\",\n",
    "        \"NETWORK_TYPE\",\n",
    "        \"START_TRUE_DIST\",\n",
    "        \"END_TRUE_DIST\",\n",
    "        \"RA_NO\"\n",
    "    }),\n",
    ")"
   ]
  }
 ],
 "metadata": {
  "interpreter": {
   "hash": "1036ff93b8156e06c1a1b1a4fce00491421761ff03a4bd7e2592aca5c1678a7a"
  },
  "kernelspec": {
   "display_name": "Python 3.9.1 ('base')",
   "language": "python",
   "name": "python3"
  },
  "language_info": {
   "codemirror_mode": {
    "name": "ipython",
    "version": 3
   },
   "file_extension": ".py",
   "mimetype": "text/x-python",
   "name": "python",
   "nbconvert_exporter": "python",
   "pygments_lexer": "ipython3",
   "version": "3.9.1"
  },
  "orig_nbformat": 4
 },
 "nbformat": 4,
 "nbformat_minor": 2
}
